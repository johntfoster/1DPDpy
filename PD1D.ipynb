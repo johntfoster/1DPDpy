{
 "metadata": {
  "name": ""
 },
 "nbformat": 3,
 "nbformat_minor": 0,
 "worksheets": [
  {
   "cells": [
    {
     "cell_type": "markdown",
     "metadata": {},
     "source": [
      "# Comments on the \"patch test\" for a computational peridynamics\n",
      "\n",
      "In Finite Element Analysis (FEA) it is common to check the validity of an element formulation as well as to verify a computational implementation with a simple test known as the \"patch test\".  The \"patch test\" is usually performed by creating a small group or \"patch\" of irregularly shaped elements, constraining only the rigid body modes, and applying a uniform displacement field at the boundaries.  The patch of elements passes the test if the nodal displacements match the *exact* solution, and the strain fields conform to the expected strain fields based on the element formulation.  For example, a patch test of constant strain plane elasticty elements should reproduce a constant strain field when a homogenous deformation is prescribed.\n",
      "\n",
      "When considering a patch test for the common peridynamic strong-form particle integration scheme, the first thing to remember is that the solution to the peridynamic conservation of momentum equation *is not* the solution to the partial differential equatoin of the local theory.  It is also not the same solution as one would expect to get from a traditional FEA computation. Both <cite data-cite=\"silling2003dpb\">(Silling et al., 2003)</cite> and <cite data-cite=\"weckner2009\">(Weckner et al., 2009)</cite> have developed analytic solutions in 1D in the former and 3D in the later to very special classes of peridynamic problems and constitutive models.  The Figure below taken from <cite data-cite=\"weckner2009\">(Weckner et al., 2009)</cite> shows a family of displacement field solutions for an infinite peridynamic bar under a self-equalibriating far-field body force distribution that converges to the classical local elasticity solution in the limit of $\\delta \\to 0$.\n",
      "<br>\n",
      "<img src=\"files/figs/weckner_disp.png\" width=\"400\">\n",
      "<br>\n",
      "<cite data-cite=\"bobaru2009convergence\">(Bobaru et al., 2009)</cite> showed that 1D discrete solutions of the strong-form peridynamic momentum equation converge to analytic solutions of a bond-based peridynamic material.  This work also showed examples of adaptive and irregular discritizations.  Solutions to the peridynamic momentum equation show features not present in the classical theory, namely decaying oscillations in the displacement field and progressively weakening discontinuities that propagate outside of the loading region.  Therefore, a correct patch test of any discretized peridynamic solution would have to compare to an analytic solution given the same constitutive model.  Unfortunately, these analytic soluitons are near impossible for non-trivial constitutive models in two- and three-dimensions, and while possible, time consuming for formulate in one-dimension.  In this document what we will show will really be *consistancy* between state-based formulations and not a true patch test.  Even this *consistancy* between models will is non-trivial to achieve and realies on the correct partial-volume integration of regions that intersect the non-local support or peridynamic horizon (More on this in the sequal).  However, we will additionally show that the correct patch test behavior of the local model can be replicated by allowing the peridynamic horizon to vanish.\n",
      "\n",
      "## Constitutive models\n",
      "For reference, let's recall that the peridynamic conservation of momentum equation has the form\n",
      "\n",
      "\\begin{equation}\n",
      "\\rho \\mathbf{\\ddot{u}}[\\mathbf{x}] = \\int_{\\mathcal{H}} \\underline{\\mathbf{T}}[\\mathbf{x}] - \\underline{\\mathbf{T}}[\\mathbf{x'}] {\\rm d}V_{\\mathbf{x'}}\n",
      "\\end{equation}\n",
      "\n",
      "where an explicit dependence on time has been suprressed in the equation and the consitutive response of the material is contained in the integrand.  The simplest form of a constitutive model that could be considered in peridynamics would be one in which the force in each *bond* pair of $\\mathbf{x'}$ and $\\mathbf{x}$ was independent of all others.  This is the so-called *bond-based* model that was introduced in the original paper on peridynamics <cite data-cite=\"silling2000ret\">(Silling, 2000)</cite>.  An improvement to this model would be a model in which the force in each bond pair is influenced by the totality of deformations of all bonds.  If the resulting direction of action of such a force acts along the vector $\\mathbf{x'}-\\mathbf{x}$ it is called an *ordinary state-based* material.  An example of such a material model is\n",
      "\n",
      "\\begin{equation}\n",
      "\\underline{\\mathbf{T}} = \\underline{t} \\underline{\\mathbf{M}}\n",
      "\\end{equation}\n",
      "\n",
      "where $\\underline{\\mathbf{M}}$ is called a *unit vector-state* and is defined as unit vector pointing from the deformed position of $\\mathbf{x}$ to the deformed position of $\\mathbf{x'}$, and $\\underline{t}$ is called a *force scalar-state*.  An example of a force scalar-state that has an equivalent elastic strain energy density to that of a local elasticity model. \n",
      "\n",
      "\\begin{equation}\n",
      "\\underline{t} = \\frac{3 k \\theta}{m} \\underline{\\omega} \\, \\underline{x} + \\alpha \\underline{\\omega} \\, \\underline{e}^d\n",
      "\\end{equation}\n",
      "\n",
      "Please refer to <cite data-cite=\"silling2007psa\">(Silling et al., 2007)</cite> for meaning of the notation.  This type of state-based consitutive model will be refered to as a *native* peridynamic constititive model in the sequal to distingish it from *correspondence* models.  Notice there are no derivatives appearing in this model.\n",
      "\n",
      "### Correspondence models\n",
      "\n",
      "As a convience, there is a technique for incorporating classical stress-strain models into a peridynamic formulation by establishing an equivalence or correspondence of strain-energy density functionals.  It is important to note that this is still a non-local formulation and will only be *exactly* equivalent to the classical theory in the limit of vanishing horizon.  Omitting the details (refer to <cite data-cite=\"silling2007psa\">(Silling et al., 2007)</cite> or <cite data-cite=\"foster2010visco\">(Foster et al., 2010)</cite>) the correspondence formulation arrives at a force vector state\n",
      "\n",
      "\\begin{equation}\n",
      "\\underline{\\mathbf{T}} = \\underline{\\omega} \\boldsymbol{\\sigma}(\\bar{\\mathbf{F}}) \\mathbf{K}^{-1} (\\mathbf{x'-x})\n",
      "\\end{equation}\n",
      "\n",
      "where $\\boldsymbol{\\sigma}$ is the First Piola-Kirchoff stress derived from an approximation of the deformation gradient $\\bar{\\mathbf{F}}$\n",
      "\n",
      "\\begin{equation}\n",
      "\\bar{F}_{ij} = \\int_\\mathcal{H} (\\mathbf{u[x'] - u[x] - x' + x})_{i} (\\mathbf{x'-x})_{j} \\rm{d}V_{\\mathbf{x'}} K_{ij}^{-1} \n",
      "\\end{equation}\n",
      "\n",
      "and $\\mathbf{K}$ is a *shape tensor* defined by\n",
      "\\begin{equation}\n",
      "K_{ij} = \\int_\\mathcal{H} (\\mathbf{x'-x})_{i} (\\mathbf{x'-x})_{j} \\rm{d}V_{\\mathbf{x'}}\n",
      "\\end{equation}\n",
      "\n",
      "#### Mathematical convergence to the classical theory\n",
      "\n",
      "We'll now show briefly that this model converges to the classical theory in the limit of vanishing horizon.  First, we assume a continuously differentialble stress field such that we can perform a Taylor expansion about the point $\\mathbf{x'} = \\mathbf{x}$, i.e.\n",
      "\n",
      "\\begin{equation}\n",
      "\\sigma_{ij}[\\mathbf{x'}] = \\sigma_{ij}[\\mathbf{x}] + \\frac{\\partial \\sigma_{ij}[\\mathbf{x}]}{\\partial x_k} \\xi_k + \\mathcal{O}(||\\boldsymbol{\\xi}||^2)\n",
      "\\end{equation}\n",
      "\n",
      "where $\\boldsymbol{\\xi} = \\mathbf{x'-x}$.  Substituting this into the force-state relationship and back into the equation of motion (in the absence of body forces) we have\n",
      "\n",
      "\\begin{align}\n",
      "\\rho \\ddot{u}_i[\\mathbf{x}] =& \\int_\\mathcal{H} \\underline{\\omega} \\sigma_{ij}[\\mathbf{x}] K_{jl}^{-1} \\xi_l + \\underline{\\omega} \\left[ \\sigma_{ij}[\\mathbf{x}] + \\frac{\\partial \\sigma_{ij}[\\mathbf{x}]}{\\partial x_k} \\xi_k + \\mathcal{O}(||\\boldsymbol{\\xi}||^2) \\right] K_{jl}^{-1} \\xi_l {\\rm d}V_{\\mathbf{x'}} \\\\\n",
      "=& 2 \\int_\\mathcal{H} \\underline{\\omega} \\sigma_{ij}[\\mathbf{x}] K_{jl}^{-1}  \\xi_l {\\rm d}V_{\\mathbf{x'}} + \\int_\\mathcal{H} \\underline{\\omega} \\left[\\frac{\\partial \\sigma_{ij}[\\mathbf{x}]}{\\partial x_k} \\xi_k + \\mathcal{O}(||\\boldsymbol{\\xi}||^2) \\right] K_{jl}^{-1} \\xi_l {\\rm d}V_{\\mathbf{x'}} \\\\\n",
      "=&  \\frac{\\partial \\sigma_{ij}[\\mathbf{x}]}{\\partial x_k} K_{jl}^{-1} \\int_\\mathcal{H}  \\underline{\\omega}\\xi_l \\xi_k  {\\rm d}V_{\\mathbf{x'}} + \\mathcal{O}(\\delta) \\\\\n",
      "=&  \\frac{\\partial \\sigma_{ij}[\\mathbf{x}]}{\\partial x_k} K_{jl}^{-1} K_{lk} + \\mathcal{O}(\\delta) \\\\\n",
      "=&  \\frac{\\partial \\sigma_{ij}[\\mathbf{x}]}{\\partial x_k} \\delta_{jk} + \\mathcal{O}(\\delta) \\\\\n",
      "=&  \\frac{\\partial \\sigma_{ij}[\\mathbf{x}]}{\\partial x_j} + \\mathcal{O}(\\delta) \\\\\n",
      "\\end{align}\n",
      "\n",
      "where we've made use of the antisymmetry in the integrand to eliminate the first term between the second and third step above.  Now we take $\\delta \\to 0$\n",
      "\n",
      "\\begin{align}\n",
      "\\lim_{\\delta \\to 0} \\lbrace \\rho \\ddot{u}_i[\\mathbf{x}] =&  \\frac{\\partial \\sigma_{ij}[\\mathbf{x}]}{\\partial x_j} + \\mathcal{O}(\\delta) \\rbrace \\\\\n",
      " \\rho \\ddot{u}_i[\\mathbf{x}] =&  \\frac{\\partial \\sigma_{ij}[\\mathbf{x}]}{\\partial x_j} \\\\\n",
      "  \\rho \\ddot{\\mathbf{u}}[\\mathbf{x}] =&  \\nabla \\cdot \\boldsymbol{\\sigma}[\\mathbf{x}]\n",
      "\\end{align}\n",
      "\n",
      "thus establishing the convergence mathematically.  In the numerical results below, we will approach this solution by refining the discretization and allowing the horizon to approach zero.\n",
      "\n",
      "# Numerical Examples\n",
      "\n",
      "We'll start by importing the class that defines a 1-dimensional peridynamic problem.\n"
     ]
    },
    {
     "cell_type": "code",
     "collapsed": false,
     "input": [
      "from PD1D import PD_Problem"
     ],
     "language": "python",
     "metadata": {},
     "outputs": [],
     "prompt_number": 19
    },
    {
     "cell_type": "markdown",
     "metadata": {},
     "source": [
      "Now we instantiate the problem using the correspondence constititive model defined in the last section."
     ]
    },
    {
     "cell_type": "code",
     "collapsed": false,
     "input": [
      "fixed_length = 40\n",
      "delta_x = 0.1\n",
      "fixed_horizon = 3.5 * delta_x\n",
      "\n",
      "problem1 = PD_Problem(bar_length=fixed_length, number_of_elements=(fixed_length/delta_x), \n",
      "                      horizon=fixed_horizon, constitutive_model_flag='native', randomization_factor=0.0)"
     ],
     "language": "python",
     "metadata": {},
     "outputs": [],
     "prompt_number": 20
    },
    {
     "cell_type": "markdown",
     "metadata": {},
     "source": [
      "Solve the problem and get the solution vectors for plotting."
     ]
    },
    {
     "cell_type": "code",
     "collapsed": false,
     "input": [
      "problem1.solve(prescribed_displacement=0.01)\n",
      "disp1 = problem1.get_solution()\n",
      "nodes1 = problem1.get_nodes()"
     ],
     "language": "python",
     "metadata": {},
     "outputs": [],
     "prompt_number": 21
    },
    {
     "cell_type": "markdown",
     "metadata": {},
     "source": [
      "Now plot the results"
     ]
    },
    {
     "cell_type": "code",
     "collapsed": false,
     "input": [
      "%pylab inline"
     ],
     "language": "python",
     "metadata": {},
     "outputs": [
      {
       "output_type": "stream",
       "stream": "stdout",
       "text": [
        "Populating the interactive namespace from numpy and matplotlib\n"
       ]
      }
     ],
     "prompt_number": 22
    },
    {
     "cell_type": "code",
     "collapsed": false,
     "input": [
      "plt.plot(nodes1, disp1, 'k-');\n",
      "plt.grid(b=True);\n",
      "plt.axis('tight');"
     ],
     "language": "python",
     "metadata": {},
     "outputs": [
      {
       "metadata": {},
       "output_type": "display_data",
       "png": "[encoded data removed]",
       "text": [
        "<matplotlib.figure.Figure at 0x109687c90>"
       ]
      }
     ],
     "prompt_number": 23
    },
    {
     "cell_type": "markdown",
     "metadata": {},
     "source": [
      "We can also get the deformation gradient and plot it as well."
     ]
    },
    {
     "cell_type": "code",
     "collapsed": false,
     "input": [
      "def_grad1 = problem1.get_deformation_gradient()\n",
      "plt.plot(nodes1, def_grad1, 'k-');\n",
      "plt.grid(b=True);\n",
      "plt.axis();"
     ],
     "language": "python",
     "metadata": {},
     "outputs": [
      {
       "metadata": {},
       "output_type": "display_data",
       "png": "[encoded data removed]",
       "text": [
        "<matplotlib.figure.Figure at 0x1095b89d0>"
       ]
      }
     ],
     "prompt_number": 24
    },
    {
     "cell_type": "code",
     "collapsed": false,
     "input": [],
     "language": "python",
     "metadata": {},
     "outputs": [],
     "prompt_number": 24
    },
    {
     "cell_type": "code",
     "collapsed": false,
     "input": [],
     "language": "python",
     "metadata": {},
     "outputs": [],
     "prompt_number": 24
    }
   ],
   "metadata": {}
  }
 ]
}